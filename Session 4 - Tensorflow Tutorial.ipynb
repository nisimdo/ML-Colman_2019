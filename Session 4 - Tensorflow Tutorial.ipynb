{
 "cells": [
  {
   "cell_type": "markdown",
   "metadata": {},
   "source": [
    "# Session 4- Tensorflow Tutorial"
   ]
  },
  {
   "cell_type": "markdown",
   "metadata": {},
   "source": [
    "## What is Tensorflow"
   ]
  },
  {
   "cell_type": "markdown",
   "metadata": {},
   "source": [
    "TensorFlow is an open source software library for numerical computation using data flow graphs. We will demonstrate how to define and train neural network models for multi-class classification problems.\n",
    "\n",
    "In this tutorial, we will train:\n",
    "\n",
    "- One-Hidden Layer Neural Network Model"
   ]
  },
  {
   "cell_type": "markdown",
   "metadata": {},
   "source": [
    "## Back to MNIST"
   ]
  },
  {
   "cell_type": "markdown",
   "metadata": {},
   "source": [
    "The following code will import and download the MNIST dataset."
   ]
  },
  {
   "cell_type": "code",
   "execution_count": 1,
   "metadata": {},
   "outputs": [],
   "source": [
    "import tensorflow as tf\n",
    "\n",
    "mnist = tf.keras.datasets.mnist # 28x28 images of hand-written digits 0-9\n",
    "\n",
    "(x_train, y_train),(x_test, y_test) = mnist.load_data()"
   ]
  },
  {
   "cell_type": "code",
   "execution_count": 2,
   "metadata": {},
   "outputs": [
    {
     "name": "stdout",
     "output_type": "stream",
     "text": [
      "60000 10000\n",
      "(60000, 28, 28) (60000,)\n",
      "0 255\n"
     ]
    },
    {
     "data": {
      "text/plain": [
       "<matplotlib.image.AxesImage at 0x2597fa0d7b8>"
      ]
     },
     "execution_count": 2,
     "metadata": {},
     "output_type": "execute_result"
    },
    {
     "data": {
      "image/png": "[encoded data removed]",
      "text/plain": [
       "<Figure size 432x288 with 1 Axes>"
      ]
     },
     "metadata": {
      "needs_background": "light"
     },
     "output_type": "display_data"
    }
   ],
   "source": [
    "import numpy as np\n",
    "import matplotlib.pyplot as plt\n",
    "\n",
    "%matplotlib inline\n",
    "# mnist is now a DataSet with accessors for:\n",
    "#'train' and 'test'\n",
    "# within each, we can access:\n",
    "# images, labels, and num_examples\n",
    "print(len(x_train),\n",
    "      len(x_test))\n",
    "\n",
    "# the images are stored as:\n",
    "# n_observations x 28 x 28\n",
    "# the labels are stored as n_observations\n",
    "print(x_train.shape, y_train.shape)\n",
    "\n",
    "# the range of the values of the images is from 0-255\n",
    "print(np.min(x_train), np.max(x_train))\n",
    "\n",
    "# we can visualize any one of the images by reshaping it to a 28x28 image\n",
    "plt.imshow(x_train[0], cmap='gray')"
   ]
  },
  {
   "cell_type": "markdown",
   "metadata": {},
   "source": [
    "Logistic regression is a linear model. It solves the same problem that the perceptron algorithm solves - finding a linear seperator for our data."
   ]
  },
  {
   "cell_type": "markdown",
   "metadata": {},
   "source": [
    "First, we must normalize the images:"
   ]
  },
  {
   "cell_type": "code",
   "execution_count": 3,
   "metadata": {},
   "outputs": [],
   "source": [
    "x_train = x_train / 255.0\n",
    "\n",
    "x_test = x_test / 255.0"
   ]
  },
  {
   "cell_type": "markdown",
   "metadata": {},
   "source": [
    "Next, let us define our model, it's pretty basic.\n",
    "<br>\n",
    "It will contain a single layer with a __Softmax activation function__"
   ]
  },
  {
   "cell_type": "code",
   "execution_count": 4,
   "metadata": {},
   "outputs": [],
   "source": [
    "#Building the model\n",
    "model = tf.keras.models.Sequential()    # Creating a Sequential network (FeedForward)\n",
    "model.add(tf.keras.layers.Flatten())    # Flatting the image from a 28x28 to a 784x1 column\n",
    "model.add(tf.keras.layers.Dense(10, activation=tf.nn.softmax))   # Creating an output layer with 10 neurones and with an softmax for probability distibution"
   ]
  },
  {
   "cell_type": "markdown",
   "metadata": {},
   "source": [
    "Recall we need to minimize some loss/cost function.\n",
    "In our case this function is called cross-entropy (or negative log likelihood for the one-hot case)\n",
    "\n",
    "This is how to looks like:\n",
    "$${-}\\sum_{i=0}^{n} {y_i} * log(y'_i)$$\n",
    "where $y_i$ is the true label and $y'_i$ is the model's prediction.\n",
    "\n",
    "To optimize, we will use a technique called __Stochastic Gradient Descent__"
   ]
  },
  {
   "cell_type": "code",
   "execution_count": 5,
   "metadata": {},
   "outputs": [],
   "source": [
    "from tensorflow.keras import optimizers\n",
    "from tensorflow.keras import losses\n",
    "\n",
    "model.compile(optimizer='sgd',\n",
    "              loss=losses.sparse_categorical_crossentropy,\n",
    "              metrics=['accuracy'])"
   ]
  },
  {
   "cell_type": "markdown",
   "metadata": {},
   "source": [
    "## Fitting the model with the training data"
   ]
  },
  {
   "cell_type": "markdown",
   "metadata": {},
   "source": [
    "We would like to observe the loss function values throught the training process.\n",
    "<br>\n",
    "This is why we will create a callback to store the loss and accuracy function values:"
   ]
  },
  {
   "cell_type": "code",
   "execution_count": 8,
   "metadata": {},
   "outputs": [],
   "source": [
    "class LossAccHistory(tf.keras.callbacks.Callback):\n",
    "    def on_train_begin(self, logs={}):\n",
    "        self.losses = []\n",
    "        self.accuracy = []\n",
    "\n",
    "    def on_epoch_end(self, batch, logs={}):\n",
    "        self.losses.append(logs.get('loss'))\n",
    "        self.accuracy.append(logs.get('acc'))"
   ]
  },
  {
   "cell_type": "markdown",
   "metadata": {},
   "source": [
    "We will add the callback to the model's fitting"
   ]
  },
  {
   "cell_type": "code",
   "execution_count": 9,
   "metadata": {},
   "outputs": [
    {
     "name": "stdout",
     "output_type": "stream",
     "text": [
      "Train on 54000 samples, validate on 6000 samples\n",
      "Epoch 1/10\n",
      "54000/54000 [==============================] - 4s 71us/step - loss: 1.1945 - acc: 0.7274 - val_loss: 0.7168 - val_acc: 0.8640\n",
      "Epoch 2/10\n",
      "54000/54000 [==============================] - 3s 59us/step - loss: 0.6829 - acc: 0.8445 - val_loss: 0.5297 - val_acc: 0.8873\n",
      "Epoch 3/10\n",
      "54000/54000 [==============================] - 4s 74us/step - loss: 0.5674 - acc: 0.8611 - val_loss: 0.4557 - val_acc: 0.8957\n",
      "Epoch 4/10\n",
      "54000/54000 [==============================] - 3s 63us/step - loss: 0.5113 - acc: 0.8708 - val_loss: 0.4151 - val_acc: 0.8987\n",
      "Epoch 5/10\n",
      "54000/54000 [==============================] - 3s 56us/step - loss: 0.4769 - acc: 0.8770 - val_loss: 0.3888 - val_acc: 0.9038\n",
      "Epoch 6/10\n",
      "54000/54000 [==============================] - 3s 61us/step - loss: 0.4530 - acc: 0.8814 - val_loss: 0.3696 - val_acc: 0.9088\n",
      "Epoch 7/10\n",
      "54000/54000 [==============================] - 3s 59us/step - loss: 0.4352 - acc: 0.8849 - val_loss: 0.3560 - val_acc: 0.9090\n",
      "Epoch 8/10\n",
      "54000/54000 [==============================] - 3s 58us/step - loss: 0.4213 - acc: 0.8875 - val_loss: 0.3445 - val_acc: 0.9122\n",
      "Epoch 9/10\n",
      "54000/54000 [==============================] - 3s 57us/step - loss: 0.4101 - acc: 0.8901 - val_loss: 0.3355 - val_acc: 0.9143\n",
      "Epoch 10/10\n",
      "54000/54000 [==============================] - 3s 58us/step - loss: 0.4007 - acc: 0.8919 - val_loss: 0.3279 - val_acc: 0.9150\n"
     ]
    },
    {
     "data": {
      "text/plain": [
       "<tensorflow.python.keras.callbacks.History at 0x2597bcfba90>"
      ]
     },
     "execution_count": 9,
     "metadata": {},
     "output_type": "execute_result"
    }
   ],
   "source": [
    "n_epochs = 10\n",
    "batch_size = 100\n",
    "\n",
    "history = LossAccHistory()\n",
    "model.fit(x_train, y_train, validation_split=0.1, shuffle=True, \n",
    "          epochs=n_epochs, batch_size=batch_size,\n",
    "          callbacks=[history])   #Trainning the model with the data"
   ]
  },
  {
   "cell_type": "markdown",
   "metadata": {},
   "source": [
    "Let us evaluate The accuracy and the loss of the model:"
   ]
  },
  {
   "cell_type": "code",
   "execution_count": 10,
   "metadata": {
    "scrolled": true
   },
   "outputs": [
    {
     "data": {
      "text/plain": [
       "<matplotlib.legend.Legend at 0x2597bf91b00>"
      ]
     },
     "execution_count": 10,
     "metadata": {},
     "output_type": "execute_result"
    },
    {
     "data": {
      "image/png": "[encoded data removed]",
      "text/plain": [
       "<Figure size 432x288 with 1 Axes>"
      ]
     },
     "metadata": {
      "needs_background": "light"
     },
     "output_type": "display_data"
    }
   ],
   "source": [
    "import matplotlib.pyplot as plt\n",
    "x = range(0, len(history.losses))\n",
    "plt.plot(x, history.losses)\n",
    "plt.plot(x, history.accuracy)\n",
    "plt.xlabel('epochs')\n",
    "plt.title('Loss and Accuracy')\n",
    "plt.legend(['losses', 'accuracy'])"
   ]
  },
  {
   "cell_type": "markdown",
   "metadata": {},
   "source": [
    "## But Wait..."
   ]
  },
  {
   "cell_type": "markdown",
   "metadata": {},
   "source": [
    "This is our accuracy on the validation set! What we really want to know is how we performed on the test set:"
   ]
  },
  {
   "cell_type": "code",
   "execution_count": 11,
   "metadata": {},
   "outputs": [
    {
     "name": "stdout",
     "output_type": "stream",
     "text": [
      "10000/10000 [==============================] - 1s 51us/step\n",
      "Test accuracy: 0.9011\n"
     ]
    }
   ],
   "source": [
    "test_loss, test_acc = model.evaluate(x_test, y_test)\n",
    "\n",
    "print('Test accuracy:', test_acc)"
   ]
  },
  {
   "cell_type": "markdown",
   "metadata": {},
   "source": [
    "## Adding Layers"
   ]
  },
  {
   "cell_type": "markdown",
   "metadata": {},
   "source": [
    "So what we have so far is a linear model, basically 1 layer.\n",
    "\n",
    "Why not add a hidden layer?\n",
    "\n",
    "Next, we will implement a model called MLP (Multi Layer Perceptron). It will have the following structure:\n",
    "- Input layer (784)\n",
    "- Hidden layer (256)\n",
    "- Output layer (10)"
   ]
  },
  {
   "cell_type": "code",
   "execution_count": 12,
   "metadata": {},
   "outputs": [],
   "source": [
    "model = tf.keras.models.Sequential()    # Creating a Sequential network (FeedForward)\n",
    "model.add(tf.keras.layers.Flatten())    # Flatting the image from a 28x28 to a 784x1 column\n",
    "model.add(tf.keras.layers.Dense(256, activation=tf.nn.relu))   # Creating a fully connected layer With 128 neurons with ReLu activation function\n",
    "model.add(tf.keras.layers.Dense(10, activation=tf.nn.softmax))   # Creating an output layer with 10 neurones and with an softmax for probability distibution"
   ]
  },
  {
   "cell_type": "markdown",
   "metadata": {},
   "source": [
    "Let us define the model, this time using a hidden kayer with a relu activation function\n",
    "- Why use non-linearities? (combining linear function yields a linear function)\n",
    "- Other options for activation functions? (sigmoid, tanh, etc.)"
   ]
  },
  {
   "cell_type": "markdown",
   "metadata": {},
   "source": [
    "Now lets use a different optimization technique, instead of using __Stochastic Gradient Descent__ let us use a method called __ADAM__ (it is a varient of SGD, only with different learning rates for each dimension)."
   ]
  },
  {
   "cell_type": "code",
   "execution_count": 13,
   "metadata": {},
   "outputs": [],
   "source": [
    "model.compile(optimizer='adam',\n",
    "              loss='sparse_categorical_crossentropy',\n",
    "              metrics=['accuracy'])"
   ]
  },
  {
   "cell_type": "markdown",
   "metadata": {},
   "source": [
    "## Putting it All Together"
   ]
  },
  {
   "cell_type": "code",
   "execution_count": 15,
   "metadata": {},
   "outputs": [
    {
     "name": "stdout",
     "output_type": "stream",
     "text": [
      "Train on 54000 samples, validate on 6000 samples\n",
      "Epoch 1/10\n",
      "54000/54000 [==============================] - 9s 174us/step - loss: 0.3089 - acc: 0.9146 - val_loss: 0.1386 - val_acc: 0.9637\n",
      "Epoch 2/10\n",
      "54000/54000 [==============================] - 8s 141us/step - loss: 0.1298 - acc: 0.9629 - val_loss: 0.0995 - val_acc: 0.9722\n",
      "Epoch 3/10\n",
      "54000/54000 [==============================] - 8s 139us/step - loss: 0.0876 - acc: 0.9742 - val_loss: 0.0773 - val_acc: 0.9773\n",
      "Epoch 4/10\n",
      "54000/54000 [==============================] - 8s 141us/step - loss: 0.0655 - acc: 0.9808 - val_loss: 0.0794 - val_acc: 0.9765\n",
      "Epoch 5/10\n",
      "54000/54000 [==============================] - 8s 143us/step - loss: 0.0497 - acc: 0.9854 - val_loss: 0.0720 - val_acc: 0.9795\n",
      "Epoch 6/10\n",
      "54000/54000 [==============================] - 8s 141us/step - loss: 0.0386 - acc: 0.9887 - val_loss: 0.0682 - val_acc: 0.9802\n",
      "Epoch 7/10\n",
      "54000/54000 [==============================] - 7s 128us/step - loss: 0.0302 - acc: 0.9912 - val_loss: 0.0733 - val_acc: 0.9797\n",
      "Epoch 8/10\n",
      "54000/54000 [==============================] - 8s 141us/step - loss: 0.0244 - acc: 0.9936 - val_loss: 0.0638 - val_acc: 0.9815\n",
      "Epoch 9/10\n",
      "54000/54000 [==============================] - 7s 123us/step - loss: 0.0189 - acc: 0.9949 - val_loss: 0.0695 - val_acc: 0.9822\n",
      "Epoch 10/10\n",
      "54000/54000 [==============================] - 2s 42us/step - loss: 0.0147 - acc: 0.9964 - val_loss: 0.0765 - val_acc: 0.9798\n"
     ]
    },
    {
     "data": {
      "text/plain": [
       "<tensorflow.python.keras.callbacks.History at 0x2597bc58d30>"
      ]
     },
     "execution_count": 15,
     "metadata": {},
     "output_type": "execute_result"
    }
   ],
   "source": [
    "class EpochLossAccHistory(tf.keras.callbacks.Callback):\n",
    "    def on_train_begin(self, logs={}):\n",
    "        self.losses = []\n",
    "        self.accuracy = []\n",
    "\n",
    "    def on_epoch_end(self, epoch, logs={}):\n",
    "        self.losses.append(logs.get('loss'))\n",
    "        self.accuracy.append(logs.get('acc'))\n",
    "        \n",
    "n_epochs = 10\n",
    "batch_size = 100\n",
    "\n",
    "history = EpochLossAccHistory()\n",
    "model.fit(x_train, y_train, validation_split=0.1, shuffle=True, \n",
    "          epochs=n_epochs, batch_size=batch_size,\n",
    "          callbacks=[history])   #Trainning the model with the data"
   ]
  },
  {
   "cell_type": "markdown",
   "metadata": {},
   "source": [
    "We have an accuracy of 99% on the train data!\n",
    "<br>\n",
    "__WOW!__"
   ]
  },
  {
   "cell_type": "markdown",
   "metadata": {},
   "source": [
    "## Cool. Lets See Some Results"
   ]
  },
  {
   "cell_type": "code",
   "execution_count": 16,
   "metadata": {},
   "outputs": [
    {
     "data": {
      "text/plain": [
       "<matplotlib.legend.Legend at 0x2597d412d68>"
      ]
     },
     "execution_count": 16,
     "metadata": {},
     "output_type": "execute_result"
    },
    {
     "data": {
      "image/png": "[encoded data removed]",
      "text/plain": [
       "<Figure size 432x288 with 1 Axes>"
      ]
     },
     "metadata": {
      "needs_background": "light"
     },
     "output_type": "display_data"
    }
   ],
   "source": [
    "import matplotlib.pyplot as plt\n",
    "x = range(0, len(history.losses))\n",
    "plt.plot(x, history.losses)\n",
    "plt.plot(x, history.accuracy)\n",
    "plt.xlabel('epochs')\n",
    "plt.title('Loss and Accuracy')\n",
    "plt.legend(['losses', 'accuracy'])"
   ]
  },
  {
   "cell_type": "markdown",
   "metadata": {},
   "source": [
    "## Test Set"
   ]
  },
  {
   "cell_type": "code",
   "execution_count": 17,
   "metadata": {},
   "outputs": [
    {
     "name": "stdout",
     "output_type": "stream",
     "text": [
      "10000/10000 [==============================] - 0s 26us/step\n",
      "Test accuracy: 0.9796\n"
     ]
    }
   ],
   "source": [
    "test_loss, test_acc = model.evaluate(x_test, y_test)\n",
    "\n",
    "print('Test accuracy:', test_acc)"
   ]
  },
  {
   "cell_type": "markdown",
   "metadata": {},
   "source": [
    "This is much better right? "
   ]
  },
  {
   "cell_type": "markdown",
   "metadata": {},
   "source": [
    "# Your Turn\n",
    "Now that you have seen how to build simple models it's your turn to experiment.\n",
    "\n",
    "Train an MLP.\n",
    "\n",
    "Follow the instuctions in the following link:"
   ]
  },
  {
   "cell_type": "code",
   "execution_count": null,
   "metadata": {},
   "outputs": [],
   "source": [
    "https://www.tensorflow.org/tutorials/keras/basic_classification"
   ]
  }
 ],
 "metadata": {
  "kernelspec": {
   "display_name": "Python 3",
   "language": "python",
   "name": "python3"
  },
  "language_info": {
   "codemirror_mode": {
    "name": "ipython",
    "version": 3
   },
   "file_extension": ".py",
   "mimetype": "text/x-python",
   "name": "python",
   "nbconvert_exporter": "python",
   "pygments_lexer": "ipython3",
   "version": "3.6.6"
  }
 },
 "nbformat": 4,
 "nbformat_minor": 2
}
