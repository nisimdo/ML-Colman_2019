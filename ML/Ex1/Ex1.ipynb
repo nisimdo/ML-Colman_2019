{
  "nbformat": 4,
  "nbformat_minor": 0,
  "metadata": {
    "colab": {
      "name": "Ex1.ipynb",
      "version": "0.3.2",
      "provenance": [],
      "collapsed_sections": [
        "Tf-WkJ-pe89e",
        "fDo4eRFwfPOG",
        "Ctor8Kw3fV7F"
      ]
    },
    "kernelspec": {
      "name": "python3",
      "display_name": "Python 3"
    }
  },
  "cells": [
    {
      "metadata": {
        "id": "gyrSnF0gewTw",
        "colab_type": "text"
      },
      "cell_type": "markdown",
      "source": [
        "# ML - Ex1\n",
        "## Name : Dor Nisim\n",
        "## ID : 311354328"
      ]
    },
    {
      "metadata": {
        "id": "Tf-WkJ-pe89e",
        "colab_type": "text"
      },
      "cell_type": "markdown",
      "source": [
        "### Preliminary Code "
      ]
    },
    {
      "metadata": {
        "id": "P21Is0CxCmo8",
        "colab_type": "code",
        "outputId": "54ef76dd-2c2e-4d6a-d49e-617fba403f85",
        "colab": {
          "base_uri": "https://localhost:8080/",
          "height": 34
        }
      },
      "cell_type": "code",
      "source": [
        "from google.colab import drive\n",
        "drive.mount('/content/drive/')"
      ],
      "execution_count": 70,
      "outputs": [
        {
          "output_type": "stream",
          "text": [
            "Drive already mounted at /content/drive/; to attempt to forcibly remount, call drive.mount(\"/content/drive/\", force_remount=True).\n"
          ],
          "name": "stdout"
        }
      ]
    },
    {
      "metadata": {
        "id": "w7i60HfhCw9w",
        "colab_type": "code",
        "colab": {}
      },
      "cell_type": "code",
      "source": [
        "PATH = \"/content/drive/My Drive/Machine Learning/Ex1/dog.jpeg\"\n",
        "ITER = 10 # The Number of Iterations Per A given K"
      ],
      "execution_count": 0,
      "outputs": []
    },
    {
      "metadata": {
        "id": "8LMEbV_2YlJr",
        "colab_type": "text"
      },
      "cell_type": "markdown",
      "source": [
        "Th function loads the Centroids (according to a given K)"
      ]
    },
    {
      "metadata": {
        "id": "xO7mMBEzDVVg",
        "colab_type": "code",
        "colab": {}
      },
      "cell_type": "code",
      "source": [
        "import numpy as np\n",
        "\n",
        "\n",
        "def init_centroids(K):\n",
        "    \"\"\"\n",
        "    Initializes K centroids that are to be used in K-Means on the dataset X.\n",
        "\n",
        "    Parameters\n",
        "    ----------\n",
        "    X : ndarray, shape (n_samples, n_features)\n",
        "        Samples, where n_samples is the number of samples and n_features is the number of features.\n",
        "    K : int\n",
        "        The number of centroids.\n",
        "\n",
        "    Returns\n",
        "    -------\n",
        "    centroids : ndarray, shape (K, n_features)\n",
        "    \"\"\"\n",
        "    if K == 2:\n",
        "        return np.asarray([[0.        , 0.        , 0.        ],\n",
        "                            [0.07843137, 0.06666667, 0.09411765]])\n",
        "    elif K == 4:\n",
        "        return np.asarray([[0.72156863, 0.64313725, 0.54901961],\n",
        "                            [0.49019608, 0.41960784, 0.33333333],\n",
        "                            [0.02745098, 0.        , 0.        ],\n",
        "                            [0.17254902, 0.16862745, 0.18823529]])\n",
        "    elif K == 8:\n",
        "        return np.asarray([[0.01568627, 0.01176471, 0.03529412],\n",
        "                            [0.14509804, 0.12156863, 0.12941176],\n",
        "                            [0.4745098 , 0.40784314, 0.32941176],\n",
        "                            [0.00784314, 0.00392157, 0.02745098],\n",
        "                            [0.50588235, 0.43529412, 0.34117647],\n",
        "                            [0.09411765, 0.09019608, 0.11372549],\n",
        "                            [0.54509804, 0.45882353, 0.36470588],\n",
        "                            [0.44705882, 0.37647059, 0.29019608]])\n",
        "    elif K == 16:\n",
        "        return np.asarray([[0.61568627, 0.56078431, 0.45882353],\n",
        "                            [0.4745098 , 0.38039216, 0.33333333],\n",
        "                            [0.65882353, 0.57647059, 0.49411765],\n",
        "                            [0.08235294, 0.07843137, 0.10196078],\n",
        "                            [0.06666667, 0.03529412, 0.02352941],\n",
        "                            [0.08235294, 0.07843137, 0.09803922],\n",
        "                            [0.0745098 , 0.07058824, 0.09411765],\n",
        "                            [0.01960784, 0.01960784, 0.02745098],\n",
        "                            [0.00784314, 0.00784314, 0.01568627],\n",
        "                            [0.8627451 , 0.78039216, 0.69803922],\n",
        "                            [0.60784314, 0.52156863, 0.42745098],\n",
        "                            [0.01960784, 0.01176471, 0.02352941],\n",
        "                            [0.78431373, 0.69803922, 0.60392157],\n",
        "                            [0.30196078, 0.21568627, 0.1254902 ],\n",
        "                            [0.30588235, 0.2627451 , 0.24705882],\n",
        "                            [0.65490196, 0.61176471, 0.50196078]])\n",
        "    else:\n",
        "        print('This value of K is not supported.')\n",
        "        return None\n"
      ],
      "execution_count": 0,
      "outputs": []
    },
    {
      "metadata": {
        "id": "4Z8PgR-8Y0sR",
        "colab_type": "text"
      },
      "cell_type": "markdown",
      "source": [
        "The functions will read and display a given Image"
      ]
    },
    {
      "metadata": {
        "id": "lwYr-Sy3DXFc",
        "colab_type": "code",
        "colab": {}
      },
      "cell_type": "code",
      "source": [
        "%matplotlib inline\n",
        "\n",
        "import numpy as np\n",
        "import scipy.io as sio\n",
        "import matplotlib.pyplot as plt\n",
        "\n",
        "from scipy.misc import imread\n",
        "\n",
        "def ReadImage(path= PATH):\n",
        "  # data preperation (loading, normalizing, reshaping)\n",
        "  # path = 'dog.jpeg'\n",
        "  A = imread(path)\n",
        "  A_norm = A.astype(float) / 255.\n",
        "  img_size = A_norm.shape\n",
        "  X = A_norm.reshape(img_size[0] * img_size[1], img_size[2])\n",
        "  return X, img_size\n",
        "\n",
        "def DisplayImage(normImage):\n",
        "  plt.imshow(normImage)\n",
        "  plt.grid(False)\n",
        "  plt.show()\n"
      ],
      "execution_count": 0,
      "outputs": []
    },
    {
      "metadata": {
        "id": "pryxDdSeY9U_",
        "colab_type": "text"
      },
      "cell_type": "markdown",
      "source": [
        "The function is given a pixel (3 dimension) and a centroid, and will return the Euclidean distance between them"
      ]
    },
    {
      "metadata": {
        "id": "mWzrkgvlE1md",
        "colab_type": "code",
        "colab": {}
      },
      "cell_type": "code",
      "source": [
        "# The fuction will return the distance between a pixel and it's centroid\n",
        "def CalculateDistance(pixel, centroid):\n",
        "  diff = np.array(pixel)-centroid  # Calculating the diff between the points\n",
        "  \n",
        "  return np.dot(diff, diff.T);      # Returns the Euclidean ditance between the points"
      ],
      "execution_count": 0,
      "outputs": []
    },
    {
      "metadata": {
        "id": "8T4Y6AYMZIHJ",
        "colab_type": "text"
      },
      "cell_type": "markdown",
      "source": [
        "The function is given the ENTIRE image (X) and the set of centroids and will run a **single** epoche\n",
        "According to the assositation of points, the centroid will be updated"
      ]
    },
    {
      "metadata": {
        "id": "-pTZ1SAwHVre",
        "colab_type": "code",
        "colab": {}
      },
      "cell_type": "code",
      "source": [
        "def RunEpoch(X, centroids):\n",
        "  indexes = [np.argmin([CalculateDistance(pixel,c) for c in centroids]) for pixel in X]  # For each Pixel we will recieve the appropriate centroid\n",
        "  \n",
        "  \n",
        "  # For each index in the centroids\n",
        "  for c_i in range(centroids.shape[0]):\n",
        "    \n",
        "    pointList = [X[idx] for (idx , cluster) in enumerate(indexes) if cluster == c_i]  # Getting all the pixels assostiated with the centroid\n",
        "    \n",
        "    for j in range(3):\n",
        "      centroids[c_i, j] = np.mean([x[j] for x in pointList])       # Getting the Mean of each dimension of the centroid\n",
        "      \n",
        "  return centroids, indexes  # Return the new Centroids"
      ],
      "execution_count": 0,
      "outputs": []
    },
    {
      "metadata": {
        "id": "q4KHJNJnZfc6",
        "colab_type": "text"
      },
      "cell_type": "markdown",
      "source": [
        "The function prints all the centorids in a given iteration"
      ]
    },
    {
      "metadata": {
        "id": "PsFMs5kCP_Ic",
        "colab_type": "code",
        "colab": {}
      },
      "cell_type": "code",
      "source": [
        "def PrintCentroids(itr, centroids):\n",
        "  formattedCentroid = (centroids * 100).astype(int);    # Getting the final two digits\n",
        "  formattedCentroid = formattedCentroid.astype(float) / 100;  # Setting two points after the value\n",
        "  \n",
        "  centroidsStrings = [str(cen.tolist()).replace('0.0,', '0.,').replace('0.0]', '0.]') for cen in formattedCentroid] # Getting the list of centroids\n",
        "  print(\"iter {}:\".format(itr), \", \".join(centroidsStrings))"
      ],
      "execution_count": 0,
      "outputs": []
    },
    {
      "metadata": {
        "id": "q21w-qrZZlF_",
        "colab_type": "text"
      },
      "cell_type": "markdown",
      "source": [
        "The function will create a new image according to the association of pixels"
      ]
    },
    {
      "metadata": {
        "id": "B1b8M-wKVJBB",
        "colab_type": "code",
        "colab": {}
      },
      "cell_type": "code",
      "source": [
        "def CreateImage(X, indexs, centroids):\n",
        "    newImg = np.zeros(X.shape);     # Creating a new Image\n",
        "    for i in range(X.shape[0]):\n",
        "      newImg[i] = centroids[indexs[i]];             # Setting the centroid as the new Pixel\n",
        "    \n",
        "    return newImg # Retrun the New Img"
      ],
      "execution_count": 0,
      "outputs": []
    },
    {
      "metadata": {
        "id": "XyXMVHAuZz5u",
        "colab_type": "text"
      },
      "cell_type": "markdown",
      "source": [
        "The function is runnning the Full KNN for a given __k__ and for 10 Iterations"
      ]
    },
    {
      "metadata": {
        "id": "zYUTLjASR12i",
        "colab_type": "code",
        "colab": {}
      },
      "cell_type": "code",
      "source": [
        "# The function Runs KNN For a Given K including all the Iterations\n",
        "# X - The Formatted pixel of the image\n",
        "# k - The number of neighbors we observe\n",
        "def RunKNN(X, k, ImgSize):\n",
        "  print(\"k={}:\".format(k))   # Printing the K\n",
        "  cent = init_centroids(k)  # Getting the Intial Centroids\n",
        "  \n",
        "  for itr in range(ITER+1):\n",
        "    PrintCentroids(itr, cent)  # Print the Centroids\n",
        "    cent, indexs = RunEpoch(X, cent)   # Recalculating the centroids\n",
        "    newImg = CreateImage(X, indexs, cent);    # Getting the New Img\n",
        "  \n",
        "  #DisplayImage(newImg.reshape(ImgSize));       # Showing the new Img\n",
        "  return cent, indexs"
      ],
      "execution_count": 0,
      "outputs": []
    },
    {
      "metadata": {
        "id": "8f5eq_wLaI1-",
        "colab_type": "code",
        "colab": {}
      },
      "cell_type": "code",
      "source": [
        "import numpy as np\n",
        "def AverageError(X, indexs, centroids): \n",
        "  errors = [CalculateDistance(pixel, centroids[i]) for (pixel, i) in  zip(X, indexs)] # Getting a list of errors for all the pixels\n",
        "  return np.mean(errors)"
      ],
      "execution_count": 0,
      "outputs": []
    },
    {
      "metadata": {
        "id": "EFQg147ucf7H",
        "colab_type": "code",
        "colab": {}
      },
      "cell_type": "code",
      "source": [
        "import matplotlib.pyplot as plt\n",
        "%matplotlib inline\n",
        "\n",
        "def PrintErrorPlot(K, errors):\n",
        "  plt.plot(K, errors, '-ro')\n",
        "  plt.xlabel('K')\n",
        "  plt.ylabel('Average loss value')\n",
        "  plt.show()"
      ],
      "execution_count": 0,
      "outputs": []
    },
    {
      "metadata": {
        "id": "--nw9eHJUjoa",
        "colab_type": "code",
        "colab": {
          "base_uri": "https://localhost:8080/",
          "height": 921
        },
        "outputId": "59d8eb74-5acb-4848-8aee-5e59ab361978"
      },
      "cell_type": "code",
      "source": [
        "K_list = [2, 4, 8, 16]\n",
        "X, ImgSize = ReadImage();     # Reading the Image of the Dog\n",
        "avgError = []                 # The list of avg error for each k Value\n",
        "for k in K_list:\n",
        "  cent, indexs = RunKNN(X, k, ImgSize)       # Running the KNN For the given Img\n",
        "  avgError.append(AverageError(X, indexs, cent))\n"
      ],
      "execution_count": 81,
      "outputs": [
        {
          "output_type": "stream",
          "text": [
            "/usr/local/lib/python3.6/dist-packages/ipykernel_launcher.py:12: DeprecationWarning: `imread` is deprecated!\n",
            "`imread` is deprecated in SciPy 1.0.0, and will be removed in 1.2.0.\n",
            "Use ``imageio.imread`` instead.\n",
            "  if sys.path[0] == '':\n"
          ],
          "name": "stderr"
        },
        {
          "output_type": "stream",
          "text": [
            "k=2:\n",
            "iter 0: [0., 0., 0.], [0.07, 0.06, 0.09]\n",
            "iter 1: [0.01, 0.01, 0.01], [0.41, 0.36, 0.32]\n",
            "iter 2: [0.06, 0.05, 0.06], [0.58, 0.51, 0.44]\n",
            "iter 3: [0.08, 0.07, 0.07], [0.63, 0.55, 0.46]\n",
            "iter 4: [0.08, 0.07, 0.08], [0.64, 0.56, 0.47]\n",
            "iter 5: [0.09, 0.07, 0.08], [0.64, 0.56, 0.47]\n",
            "iter 6: [0.09, 0.07, 0.08], [0.64, 0.56, 0.47]\n",
            "iter 7: [0.09, 0.07, 0.08], [0.64, 0.56, 0.47]\n",
            "iter 8: [0.09, 0.07, 0.08], [0.64, 0.56, 0.47]\n",
            "iter 9: [0.09, 0.07, 0.08], [0.64, 0.56, 0.47]\n",
            "iter 10: [0.09, 0.07, 0.08], [0.64, 0.56, 0.47]\n",
            "k=4:\n",
            "iter 0: [0.72, 0.64, 0.54], [0.49, 0.41, 0.33], [0.02, 0., 0.], [0.17, 0.16, 0.18]\n",
            "iter 1: [0.72, 0.64, 0.55], [0.5, 0.42, 0.34], [0.03, 0.03, 0.03], [0.18, 0.16, 0.16]\n",
            "iter 2: [0.72, 0.64, 0.55], [0.5, 0.43, 0.35], [0.04, 0.03, 0.04], [0.19, 0.17, 0.17]\n",
            "iter 3: [0.72, 0.65, 0.55], [0.51, 0.44, 0.36], [0.04, 0.03, 0.04], [0.21, 0.18, 0.18]\n",
            "iter 4: [0.72, 0.65, 0.55], [0.52, 0.44, 0.36], [0.04, 0.03, 0.04], [0.22, 0.19, 0.19]\n",
            "iter 5: [0.72, 0.65, 0.55], [0.52, 0.45, 0.36], [0.04, 0.03, 0.04], [0.23, 0.2, 0.19]\n",
            "iter 6: [0.73, 0.65, 0.56], [0.52, 0.45, 0.37], [0.04, 0.03, 0.04], [0.23, 0.2, 0.19]\n",
            "iter 7: [0.73, 0.65, 0.56], [0.53, 0.45, 0.37], [0.04, 0.03, 0.04], [0.23, 0.21, 0.19]\n",
            "iter 8: [0.73, 0.65, 0.56], [0.53, 0.46, 0.37], [0.04, 0.03, 0.04], [0.24, 0.21, 0.2]\n",
            "iter 9: [0.73, 0.66, 0.56], [0.53, 0.46, 0.38], [0.04, 0.03, 0.04], [0.24, 0.21, 0.2]\n",
            "iter 10: [0.73, 0.66, 0.56], [0.54, 0.46, 0.38], [0.04, 0.04, 0.04], [0.24, 0.21, 0.2]\n",
            "k=8:\n",
            "iter 0: [0.01, 0.01, 0.03], [0.14, 0.12, 0.12], [0.47, 0.4, 0.32], [0., 0., 0.02], [0.5, 0.43, 0.34], [0.09, 0.09, 0.11], [0.54, 0.45, 0.36], [0.44, 0.37, 0.29]\n",
            "iter 1: [0.03, 0.03, 0.03], [0.18, 0.17, 0.17], [0.47, 0.4, 0.32], [0., 0., 0.01], [0.5, 0.43, 0.35], [0.08, 0.07, 0.09], [0.68, 0.6, 0.51], [0.38, 0.31, 0.26]\n",
            "iter 2: [0.04, 0.03, 0.04], [0.19, 0.17, 0.18], [0.46, 0.39, 0.31], [0.01, 0., 0.01], [0.54, 0.47, 0.38], [0.09, 0.08, 0.09], [0.71, 0.64, 0.54], [0.36, 0.3, 0.25]\n",
            "iter 3: [0.04, 0.03, 0.04], [0.2, 0.18, 0.18], [0.46, 0.39, 0.31], [0.01, 0., 0.01], [0.57, 0.49, 0.41], [0.09, 0.08, 0.09], [0.73, 0.65, 0.56], [0.34, 0.29, 0.24]\n",
            "iter 4: [0.04, 0.03, 0.04], [0.19, 0.18, 0.18], [0.46, 0.39, 0.31], [0.01, 0., 0.01], [0.59, 0.51, 0.42], [0.09, 0.09, 0.1], [0.74, 0.67, 0.57], [0.34, 0.28, 0.24]\n",
            "iter 5: [0.05, 0.04, 0.05], [0.19, 0.18, 0.18], [0.47, 0.4, 0.32], [0.01, 0., 0.01], [0.6, 0.53, 0.44], [0.1, 0.09, 0.1], [0.75, 0.67, 0.58], [0.33, 0.28, 0.24]\n",
            "iter 6: [0.05, 0.04, 0.05], [0.19, 0.18, 0.18], [0.48, 0.41, 0.33], [0.01, 0.01, 0.01], [0.61, 0.54, 0.45], [0.1, 0.09, 0.1], [0.76, 0.68, 0.59], [0.33, 0.28, 0.24]\n",
            "iter 7: [0.05, 0.04, 0.05], [0.2, 0.18, 0.18], [0.49, 0.41, 0.33], [0.01, 0.01, 0.01], [0.62, 0.54, 0.45], [0.1, 0.09, 0.11], [0.76, 0.69, 0.59], [0.34, 0.28, 0.24]\n",
            "iter 8: [0.05, 0.04, 0.05], [0.2, 0.18, 0.18], [0.49, 0.42, 0.34], [0.01, 0.01, 0.01], [0.63, 0.55, 0.46], [0.11, 0.1, 0.11], [0.76, 0.69, 0.6], [0.34, 0.29, 0.24]\n",
            "iter 9: [0.05, 0.04, 0.05], [0.2, 0.18, 0.18], [0.5, 0.42, 0.34], [0.01, 0.01, 0.01], [0.63, 0.56, 0.47], [0.11, 0.1, 0.11], [0.77, 0.7, 0.6], [0.35, 0.29, 0.24]\n",
            "iter 10: [0.05, 0.04, 0.06], [0.2, 0.19, 0.19], [0.51, 0.43, 0.35], [0.01, 0.01, 0.01], [0.64, 0.56, 0.47], [0.11, 0.1, 0.11], [0.77, 0.7, 0.6], [0.35, 0.3, 0.25]\n",
            "k=16:\n",
            "iter 0: [0.61, 0.56, 0.45], [0.47, 0.38, 0.33], [0.65, 0.57, 0.49], [0.08, 0.07, 0.1], [0.06, 0.03, 0.02], [0.08, 0.07, 0.09], [0.07, 0.07, 0.09], [0.01, 0.01, 0.02], [0., 0., 0.01], [0.86, 0.78, 0.69], [0.6, 0.52, 0.42], [0.01, 0.01, 0.02], [0.78, 0.69, 0.6], [0.3, 0.21, 0.12], [0.3, 0.26, 0.24], [0.65, 0.61, 0.5]\n",
            "iter 1: [0.62, 0.55, 0.46], [0.47, 0.39, 0.32], [0.66, 0.57, 0.48], [0.12, 0.11, 0.13], [0.06, 0.04, 0.03], [0.1, 0.08, 0.08], [0.06, 0.06, 0.07], [0.02, 0.02, 0.03], [0., 0., 0.], [0.85, 0.78, 0.69], [0.57, 0.49, 0.41], [0.02, 0.01, 0.01], [0.76, 0.69, 0.59], [0.22, 0.18, 0.16], [0.29, 0.26, 0.24], [0.69, 0.62, 0.52]\n",
            "iter 2: [0.62, 0.54, 0.45], [0.46, 0.39, 0.31], [0.66, 0.58, 0.48], [0.13, 0.12, 0.14], [0.06, 0.04, 0.03], [0.1, 0.08, 0.09], [0.06, 0.06, 0.07], [0.03, 0.02, 0.04], [0., 0., 0.], [0.85, 0.78, 0.68], [0.56, 0.48, 0.4], [0.02, 0.01, 0.01], [0.76, 0.69, 0.59], [0.21, 0.18, 0.18], [0.31, 0.27, 0.24], [0.7, 0.62, 0.53]\n",
            "iter 3: [0.61, 0.54, 0.45], [0.46, 0.39, 0.31], [0.66, 0.58, 0.49], [0.14, 0.12, 0.14], [0.07, 0.04, 0.02], [0.09, 0.08, 0.1], [0.06, 0.05, 0.07], [0.03, 0.03, 0.04], [0., 0., 0.], [0.84, 0.78, 0.68], [0.55, 0.48, 0.39], [0.02, 0.01, 0.02], [0.76, 0.69, 0.59], [0.21, 0.19, 0.19], [0.32, 0.27, 0.24], [0.7, 0.63, 0.53]\n",
            "iter 4: [0.61, 0.53, 0.45], [0.46, 0.38, 0.31], [0.66, 0.58, 0.49], [0.14, 0.13, 0.14], [0.08, 0.04, 0.02], [0.09, 0.09, 0.1], [0.06, 0.05, 0.07], [0.03, 0.03, 0.04], [0., 0., 0.], [0.84, 0.78, 0.68], [0.55, 0.47, 0.39], [0.02, 0.01, 0.02], [0.77, 0.69, 0.6], [0.21, 0.19, 0.19], [0.33, 0.28, 0.24], [0.71, 0.63, 0.54]\n",
            "iter 5: [0.61, 0.53, 0.44], [0.45, 0.38, 0.31], [0.66, 0.58, 0.49], [0.14, 0.13, 0.14], [0.08, 0.04, 0.01], [0.1, 0.09, 0.1], [0.06, 0.06, 0.07], [0.03, 0.03, 0.04], [0., 0., 0.], [0.85, 0.78, 0.68], [0.54, 0.47, 0.38], [0.02, 0.01, 0.02], [0.77, 0.69, 0.6], [0.21, 0.19, 0.2], [0.33, 0.28, 0.24], [0.71, 0.63, 0.54]\n",
            "iter 6: [0.6, 0.53, 0.44], [0.45, 0.38, 0.3], [0.66, 0.58, 0.49], [0.15, 0.13, 0.14], [0.09, 0.04, 0.01], [0.1, 0.09, 0.1], [0.06, 0.06, 0.07], [0.03, 0.03, 0.04], [0., 0., 0.], [0.85, 0.78, 0.68], [0.54, 0.46, 0.38], [0.02, 0.01, 0.02], [0.77, 0.7, 0.6], [0.22, 0.2, 0.2], [0.34, 0.28, 0.24], [0.71, 0.64, 0.54]\n",
            "iter 7: [0.6, 0.53, 0.44], [0.45, 0.38, 0.3], [0.66, 0.58, 0.49], [0.15, 0.14, 0.14], [0.09, 0.04, 0.01], [0.1, 0.09, 0.1], [0.06, 0.06, 0.07], [0.04, 0.03, 0.04], [0., 0., 0.], [0.85, 0.78, 0.68], [0.54, 0.46, 0.38], [0.02, 0.01, 0.02], [0.77, 0.7, 0.6], [0.22, 0.2, 0.2], [0.34, 0.28, 0.24], [0.71, 0.64, 0.54]\n",
            "iter 8: [0.6, 0.53, 0.44], [0.45, 0.38, 0.3], [0.66, 0.58, 0.49], [0.15, 0.14, 0.15], [0.09, 0.04, 0.01], [0.1, 0.09, 0.11], [0.06, 0.06, 0.07], [0.04, 0.03, 0.05], [0., 0., 0.], [0.85, 0.78, 0.68], [0.54, 0.46, 0.38], [0.02, 0.01, 0.02], [0.77, 0.7, 0.6], [0.23, 0.2, 0.2], [0.34, 0.29, 0.24], [0.71, 0.64, 0.54]\n",
            "iter 9: [0.6, 0.52, 0.44], [0.45, 0.38, 0.3], [0.66, 0.58, 0.49], [0.16, 0.14, 0.15], [0.09, 0.04, 0.01], [0.1, 0.09, 0.11], [0.06, 0.06, 0.07], [0.04, 0.03, 0.05], [0., 0., 0.], [0.85, 0.78, 0.69], [0.53, 0.46, 0.38], [0.02, 0.01, 0.02], [0.77, 0.7, 0.6], [0.23, 0.21, 0.2], [0.35, 0.29, 0.24], [0.71, 0.64, 0.54]\n",
            "iter 10: [0.6, 0.52, 0.44], [0.45, 0.38, 0.3], [0.66, 0.58, 0.49], [0.16, 0.14, 0.15], [0.09, 0.04, 0.01], [0.1, 0.09, 0.11], [0.07, 0.06, 0.07], [0.04, 0.03, 0.05], [0., 0., 0.], [0.85, 0.78, 0.69], [0.53, 0.46, 0.37], [0.02, 0.01, 0.02], [0.77, 0.7, 0.6], [0.23, 0.21, 0.21], [0.35, 0.29, 0.24], [0.71, 0.64, 0.54]\n"
          ],
          "name": "stdout"
        }
      ]
    },
    {
      "metadata": {
        "id": "oYF7ae_VeeIt",
        "colab_type": "text"
      },
      "cell_type": "markdown",
      "source": [
        "### Final Results"
      ]
    },
    {
      "metadata": {
        "id": "fDo4eRFwfPOG",
        "colab_type": "text"
      },
      "cell_type": "markdown",
      "source": [
        "#### The Average Loss Value Chart"
      ]
    },
    {
      "metadata": {
        "id": "qGJF3mUwedRK",
        "colab_type": "code",
        "colab": {
          "base_uri": "https://localhost:8080/",
          "height": 283
        },
        "outputId": "f4fff307-349f-484c-fd66-91e7b4078e3b"
      },
      "cell_type": "code",
      "source": [
        "PrintErrorPlot(K_list, avgError)"
      ],
      "execution_count": 82,
      "outputs": [
        {
          "output_type": "display_data",
          "data": {
            "image/png": "[encoded data removed]",
            "text/plain": [
              "<Figure size 432x288 with 1 Axes>"
            ]
          },
          "metadata": {
            "tags": []
          }
        }
      ]
    },
    {
      "metadata": {
        "id": "Ctor8Kw3fV7F",
        "colab_type": "text"
      },
      "cell_type": "markdown",
      "source": [
        "#### The Images for each K"
      ]
    },
    {
      "metadata": {
        "id": "90jS1jKvfcI7",
        "colab_type": "code",
        "colab": {
          "base_uri": "https://localhost:8080/",
          "height": 85
        },
        "outputId": "4023b89f-2cbd-41e8-bcaa-061b65a3af52"
      },
      "cell_type": "code",
      "source": [
        "# The function Runs KNN For a Given K including all the Iterations\n",
        "# X - The Formatted pixel of the image\n",
        "# k - The number of neighbors we observe\n",
        "def RunKNN(X, k, ImgSize):\n",
        "  print(\"k={}:\".format(k))   # Printing the K\n",
        "  cent = init_centroids(k)  # Getting the Intial Centroids\n",
        "  \n",
        "  for itr in range(ITER+1):\n",
        "    PrintCentroids(itr, cent)  # Print the Centroids\n",
        "    cent, indexs = RunEpoch(X, cent)   # Recalculating the centroids\n",
        "    newImg = CreateImage(X, indexs, cent);    # Getting the New Img\n",
        "  \n",
        "  DisplayImage(newImg.reshape(ImgSize));       # Showing the new Img\n",
        "  \n",
        "X, ImgSize = ReadImage();     # Reading the Image of the Dog"
      ],
      "execution_count": 83,
      "outputs": [
        {
          "output_type": "stream",
          "text": [
            "/usr/local/lib/python3.6/dist-packages/ipykernel_launcher.py:12: DeprecationWarning: `imread` is deprecated!\n",
            "`imread` is deprecated in SciPy 1.0.0, and will be removed in 1.2.0.\n",
            "Use ``imageio.imread`` instead.\n",
            "  if sys.path[0] == '':\n"
          ],
          "name": "stderr"
        }
      ]
    },
    {
      "metadata": {
        "id": "gqZMT74pgBIa",
        "colab_type": "text"
      },
      "cell_type": "markdown",
      "source": [
        "##### K = 2"
      ]
    },
    {
      "metadata": {
        "id": "Qwh28xqZgNJX",
        "colab_type": "code",
        "colab": {
          "base_uri": "https://localhost:8080/",
          "height": 473
        },
        "outputId": "149327fe-228c-49de-e420-a2a3be3d8121"
      },
      "cell_type": "code",
      "source": [
        "RunKNN(X, 2, ImgSize)       # Running the KNN For the given Img"
      ],
      "execution_count": 84,
      "outputs": [
        {
          "output_type": "stream",
          "text": [
            "k=2:\n",
            "iter 0: [0., 0., 0.], [0.07, 0.06, 0.09]\n",
            "iter 1: [0.01, 0.01, 0.01], [0.41, 0.36, 0.32]\n",
            "iter 2: [0.06, 0.05, 0.06], [0.58, 0.51, 0.44]\n",
            "iter 3: [0.08, 0.07, 0.07], [0.63, 0.55, 0.46]\n",
            "iter 4: [0.08, 0.07, 0.08], [0.64, 0.56, 0.47]\n",
            "iter 5: [0.09, 0.07, 0.08], [0.64, 0.56, 0.47]\n",
            "iter 6: [0.09, 0.07, 0.08], [0.64, 0.56, 0.47]\n",
            "iter 7: [0.09, 0.07, 0.08], [0.64, 0.56, 0.47]\n",
            "iter 8: [0.09, 0.07, 0.08], [0.64, 0.56, 0.47]\n",
            "iter 9: [0.09, 0.07, 0.08], [0.64, 0.56, 0.47]\n",
            "iter 10: [0.09, 0.07, 0.08], [0.64, 0.56, 0.47]\n"
          ],
          "name": "stdout"
        },
        {
          "output_type": "display_data",
          "data": {
            "image/png": "[encoded data removed]",
            "text/plain": [
              "<Figure size 432x288 with 1 Axes>"
            ]
          },
          "metadata": {
            "tags": []
          }
        }
      ]
    },
    {
      "metadata": {
        "colab_type": "text",
        "id": "MWBNByulgXHU"
      },
      "cell_type": "markdown",
      "source": [
        "##### K =4"
      ]
    },
    {
      "metadata": {
        "colab_type": "code",
        "id": "03qJKLV_gXHe",
        "colab": {
          "base_uri": "https://localhost:8080/",
          "height": 473
        },
        "outputId": "6c9bb896-b00f-45e8-c486-165e9941bb9a"
      },
      "cell_type": "code",
      "source": [
        "RunKNN(X, 4, ImgSize)       # Running the KNN For the given Img"
      ],
      "execution_count": 85,
      "outputs": [
        {
          "output_type": "stream",
          "text": [
            "k=4:\n",
            "iter 0: [0.72, 0.64, 0.54], [0.49, 0.41, 0.33], [0.02, 0., 0.], [0.17, 0.16, 0.18]\n",
            "iter 1: [0.72, 0.64, 0.55], [0.5, 0.42, 0.34], [0.03, 0.03, 0.03], [0.18, 0.16, 0.16]\n",
            "iter 2: [0.72, 0.64, 0.55], [0.5, 0.43, 0.35], [0.04, 0.03, 0.04], [0.19, 0.17, 0.17]\n",
            "iter 3: [0.72, 0.65, 0.55], [0.51, 0.44, 0.36], [0.04, 0.03, 0.04], [0.21, 0.18, 0.18]\n",
            "iter 4: [0.72, 0.65, 0.55], [0.52, 0.44, 0.36], [0.04, 0.03, 0.04], [0.22, 0.19, 0.19]\n",
            "iter 5: [0.72, 0.65, 0.55], [0.52, 0.45, 0.36], [0.04, 0.03, 0.04], [0.23, 0.2, 0.19]\n",
            "iter 6: [0.73, 0.65, 0.56], [0.52, 0.45, 0.37], [0.04, 0.03, 0.04], [0.23, 0.2, 0.19]\n",
            "iter 7: [0.73, 0.65, 0.56], [0.53, 0.45, 0.37], [0.04, 0.03, 0.04], [0.23, 0.21, 0.19]\n",
            "iter 8: [0.73, 0.65, 0.56], [0.53, 0.46, 0.37], [0.04, 0.03, 0.04], [0.24, 0.21, 0.2]\n",
            "iter 9: [0.73, 0.66, 0.56], [0.53, 0.46, 0.38], [0.04, 0.03, 0.04], [0.24, 0.21, 0.2]\n",
            "iter 10: [0.73, 0.66, 0.56], [0.54, 0.46, 0.38], [0.04, 0.04, 0.04], [0.24, 0.21, 0.2]\n"
          ],
          "name": "stdout"
        },
        {
          "output_type": "display_data",
          "data": {
            "image/png": "[encoded data removed]",
            "text/plain": [
              "<Figure size 432x288 with 1 Axes>"
            ]
          },
          "metadata": {
            "tags": []
          }
        }
      ]
    },
    {
      "metadata": {
        "colab_type": "text",
        "id": "5aZlw4TxgX8y"
      },
      "cell_type": "markdown",
      "source": [
        "##### K = 8"
      ]
    },
    {
      "metadata": {
        "colab_type": "code",
        "id": "JzVP9Gd_gX81",
        "colab": {
          "base_uri": "https://localhost:8080/",
          "height": 473
        },
        "outputId": "8d7ce92e-1aa2-4ad6-ec20-20ac7ee6ad38"
      },
      "cell_type": "code",
      "source": [
        "RunKNN(X, 8, ImgSize)       # Running the KNN For the given Img"
      ],
      "execution_count": 86,
      "outputs": [
        {
          "output_type": "stream",
          "text": [
            "k=8:\n",
            "iter 0: [0.01, 0.01, 0.03], [0.14, 0.12, 0.12], [0.47, 0.4, 0.32], [0., 0., 0.02], [0.5, 0.43, 0.34], [0.09, 0.09, 0.11], [0.54, 0.45, 0.36], [0.44, 0.37, 0.29]\n",
            "iter 1: [0.03, 0.03, 0.03], [0.18, 0.17, 0.17], [0.47, 0.4, 0.32], [0., 0., 0.01], [0.5, 0.43, 0.35], [0.08, 0.07, 0.09], [0.68, 0.6, 0.51], [0.38, 0.31, 0.26]\n",
            "iter 2: [0.04, 0.03, 0.04], [0.19, 0.17, 0.18], [0.46, 0.39, 0.31], [0.01, 0., 0.01], [0.54, 0.47, 0.38], [0.09, 0.08, 0.09], [0.71, 0.64, 0.54], [0.36, 0.3, 0.25]\n",
            "iter 3: [0.04, 0.03, 0.04], [0.2, 0.18, 0.18], [0.46, 0.39, 0.31], [0.01, 0., 0.01], [0.57, 0.49, 0.41], [0.09, 0.08, 0.09], [0.73, 0.65, 0.56], [0.34, 0.29, 0.24]\n",
            "iter 4: [0.04, 0.03, 0.04], [0.19, 0.18, 0.18], [0.46, 0.39, 0.31], [0.01, 0., 0.01], [0.59, 0.51, 0.42], [0.09, 0.09, 0.1], [0.74, 0.67, 0.57], [0.34, 0.28, 0.24]\n",
            "iter 5: [0.05, 0.04, 0.05], [0.19, 0.18, 0.18], [0.47, 0.4, 0.32], [0.01, 0., 0.01], [0.6, 0.53, 0.44], [0.1, 0.09, 0.1], [0.75, 0.67, 0.58], [0.33, 0.28, 0.24]\n",
            "iter 6: [0.05, 0.04, 0.05], [0.19, 0.18, 0.18], [0.48, 0.41, 0.33], [0.01, 0.01, 0.01], [0.61, 0.54, 0.45], [0.1, 0.09, 0.1], [0.76, 0.68, 0.59], [0.33, 0.28, 0.24]\n",
            "iter 7: [0.05, 0.04, 0.05], [0.2, 0.18, 0.18], [0.49, 0.41, 0.33], [0.01, 0.01, 0.01], [0.62, 0.54, 0.45], [0.1, 0.09, 0.11], [0.76, 0.69, 0.59], [0.34, 0.28, 0.24]\n",
            "iter 8: [0.05, 0.04, 0.05], [0.2, 0.18, 0.18], [0.49, 0.42, 0.34], [0.01, 0.01, 0.01], [0.63, 0.55, 0.46], [0.11, 0.1, 0.11], [0.76, 0.69, 0.6], [0.34, 0.29, 0.24]\n",
            "iter 9: [0.05, 0.04, 0.05], [0.2, 0.18, 0.18], [0.5, 0.42, 0.34], [0.01, 0.01, 0.01], [0.63, 0.56, 0.47], [0.11, 0.1, 0.11], [0.77, 0.7, 0.6], [0.35, 0.29, 0.24]\n",
            "iter 10: [0.05, 0.04, 0.06], [0.2, 0.19, 0.19], [0.51, 0.43, 0.35], [0.01, 0.01, 0.01], [0.64, 0.56, 0.47], [0.11, 0.1, 0.11], [0.77, 0.7, 0.6], [0.35, 0.3, 0.25]\n"
          ],
          "name": "stdout"
        },
        {
          "output_type": "display_data",
          "data": {
            "image/png": "[encoded data removed]",
            "text/plain": [
              "<Figure size 432x288 with 1 Axes>"
            ]
          },
          "metadata": {
            "tags": []
          }
        }
      ]
    },
    {
      "metadata": {
        "colab_type": "text",
        "id": "v4mCTHZogYg2"
      },
      "cell_type": "markdown",
      "source": [
        "##### K = 16"
      ]
    },
    {
      "metadata": {
        "colab_type": "code",
        "id": "1f1uBIojgYg3",
        "colab": {
          "base_uri": "https://localhost:8080/",
          "height": 493
        },
        "outputId": "7f79ce80-7633-426a-ec0e-fa10502e59b6"
      },
      "cell_type": "code",
      "source": [
        "RunKNN(X, 16, ImgSize)       # Running the KNN For the given Img"
      ],
      "execution_count": 87,
      "outputs": [
        {
          "output_type": "stream",
          "text": [
            "k=16:\n",
            "iter 0: [0.61, 0.56, 0.45], [0.47, 0.38, 0.33], [0.65, 0.57, 0.49], [0.08, 0.07, 0.1], [0.06, 0.03, 0.02], [0.08, 0.07, 0.09], [0.07, 0.07, 0.09], [0.01, 0.01, 0.02], [0., 0., 0.01], [0.86, 0.78, 0.69], [0.6, 0.52, 0.42], [0.01, 0.01, 0.02], [0.78, 0.69, 0.6], [0.3, 0.21, 0.12], [0.3, 0.26, 0.24], [0.65, 0.61, 0.5]\n",
            "iter 1: [0.62, 0.55, 0.46], [0.47, 0.39, 0.32], [0.66, 0.57, 0.48], [0.12, 0.11, 0.13], [0.06, 0.04, 0.03], [0.1, 0.08, 0.08], [0.06, 0.06, 0.07], [0.02, 0.02, 0.03], [0., 0., 0.], [0.85, 0.78, 0.69], [0.57, 0.49, 0.41], [0.02, 0.01, 0.01], [0.76, 0.69, 0.59], [0.22, 0.18, 0.16], [0.29, 0.26, 0.24], [0.69, 0.62, 0.52]\n",
            "iter 2: [0.62, 0.54, 0.45], [0.46, 0.39, 0.31], [0.66, 0.58, 0.48], [0.13, 0.12, 0.14], [0.06, 0.04, 0.03], [0.1, 0.08, 0.09], [0.06, 0.06, 0.07], [0.03, 0.02, 0.04], [0., 0., 0.], [0.85, 0.78, 0.68], [0.56, 0.48, 0.4], [0.02, 0.01, 0.01], [0.76, 0.69, 0.59], [0.21, 0.18, 0.18], [0.31, 0.27, 0.24], [0.7, 0.62, 0.53]\n",
            "iter 3: [0.61, 0.54, 0.45], [0.46, 0.39, 0.31], [0.66, 0.58, 0.49], [0.14, 0.12, 0.14], [0.07, 0.04, 0.02], [0.09, 0.08, 0.1], [0.06, 0.05, 0.07], [0.03, 0.03, 0.04], [0., 0., 0.], [0.84, 0.78, 0.68], [0.55, 0.48, 0.39], [0.02, 0.01, 0.02], [0.76, 0.69, 0.59], [0.21, 0.19, 0.19], [0.32, 0.27, 0.24], [0.7, 0.63, 0.53]\n",
            "iter 4: [0.61, 0.53, 0.45], [0.46, 0.38, 0.31], [0.66, 0.58, 0.49], [0.14, 0.13, 0.14], [0.08, 0.04, 0.02], [0.09, 0.09, 0.1], [0.06, 0.05, 0.07], [0.03, 0.03, 0.04], [0., 0., 0.], [0.84, 0.78, 0.68], [0.55, 0.47, 0.39], [0.02, 0.01, 0.02], [0.77, 0.69, 0.6], [0.21, 0.19, 0.19], [0.33, 0.28, 0.24], [0.71, 0.63, 0.54]\n",
            "iter 5: [0.61, 0.53, 0.44], [0.45, 0.38, 0.31], [0.66, 0.58, 0.49], [0.14, 0.13, 0.14], [0.08, 0.04, 0.01], [0.1, 0.09, 0.1], [0.06, 0.06, 0.07], [0.03, 0.03, 0.04], [0., 0., 0.], [0.85, 0.78, 0.68], [0.54, 0.47, 0.38], [0.02, 0.01, 0.02], [0.77, 0.69, 0.6], [0.21, 0.19, 0.2], [0.33, 0.28, 0.24], [0.71, 0.63, 0.54]\n",
            "iter 6: [0.6, 0.53, 0.44], [0.45, 0.38, 0.3], [0.66, 0.58, 0.49], [0.15, 0.13, 0.14], [0.09, 0.04, 0.01], [0.1, 0.09, 0.1], [0.06, 0.06, 0.07], [0.03, 0.03, 0.04], [0., 0., 0.], [0.85, 0.78, 0.68], [0.54, 0.46, 0.38], [0.02, 0.01, 0.02], [0.77, 0.7, 0.6], [0.22, 0.2, 0.2], [0.34, 0.28, 0.24], [0.71, 0.64, 0.54]\n",
            "iter 7: [0.6, 0.53, 0.44], [0.45, 0.38, 0.3], [0.66, 0.58, 0.49], [0.15, 0.14, 0.14], [0.09, 0.04, 0.01], [0.1, 0.09, 0.1], [0.06, 0.06, 0.07], [0.04, 0.03, 0.04], [0., 0., 0.], [0.85, 0.78, 0.68], [0.54, 0.46, 0.38], [0.02, 0.01, 0.02], [0.77, 0.7, 0.6], [0.22, 0.2, 0.2], [0.34, 0.28, 0.24], [0.71, 0.64, 0.54]\n",
            "iter 8: [0.6, 0.53, 0.44], [0.45, 0.38, 0.3], [0.66, 0.58, 0.49], [0.15, 0.14, 0.15], [0.09, 0.04, 0.01], [0.1, 0.09, 0.11], [0.06, 0.06, 0.07], [0.04, 0.03, 0.05], [0., 0., 0.], [0.85, 0.78, 0.68], [0.54, 0.46, 0.38], [0.02, 0.01, 0.02], [0.77, 0.7, 0.6], [0.23, 0.2, 0.2], [0.34, 0.29, 0.24], [0.71, 0.64, 0.54]\n",
            "iter 9: [0.6, 0.52, 0.44], [0.45, 0.38, 0.3], [0.66, 0.58, 0.49], [0.16, 0.14, 0.15], [0.09, 0.04, 0.01], [0.1, 0.09, 0.11], [0.06, 0.06, 0.07], [0.04, 0.03, 0.05], [0., 0., 0.], [0.85, 0.78, 0.69], [0.53, 0.46, 0.38], [0.02, 0.01, 0.02], [0.77, 0.7, 0.6], [0.23, 0.21, 0.2], [0.35, 0.29, 0.24], [0.71, 0.64, 0.54]\n",
            "iter 10: [0.6, 0.52, 0.44], [0.45, 0.38, 0.3], [0.66, 0.58, 0.49], [0.16, 0.14, 0.15], [0.09, 0.04, 0.01], [0.1, 0.09, 0.11], [0.07, 0.06, 0.07], [0.04, 0.03, 0.05], [0., 0., 0.], [0.85, 0.78, 0.69], [0.53, 0.46, 0.37], [0.02, 0.01, 0.02], [0.77, 0.7, 0.6], [0.23, 0.21, 0.21], [0.35, 0.29, 0.24], [0.71, 0.64, 0.54]\n"
          ],
          "name": "stdout"
        },
        {
          "output_type": "display_data",
          "data": {
            "image/png": "[encoded data removed]",
            "text/plain": [
              "<Figure size 432x288 with 1 Axes>"
            ]
          },
          "metadata": {
            "tags": []
          }
        }
      ]
    },
    {
      "metadata": {
        "id": "ui5RgpIMgnYu",
        "colab_type": "text"
      },
      "cell_type": "markdown",
      "source": [
        ""
      ]
    },
    {
      "metadata": {
        "id": "I_IXNqHJgtYJ",
        "colab_type": "text"
      },
      "cell_type": "markdown",
      "source": [
        "#### The Final Code"
      ]
    },
    {
      "metadata": {
        "id": "QCZ6zN6bgxAh",
        "colab_type": "code",
        "colab": {
          "base_uri": "https://localhost:8080/",
          "height": 904
        },
        "outputId": "8688d2e6-e85c-4da5-a571-d6bb6274d8a2"
      },
      "cell_type": "code",
      "source": [
        "import numpy as np\n",
        "import numpy as np\n",
        "import scipy.io as sio\n",
        "import matplotlib.pyplot as plt\n",
        "\n",
        "from scipy.misc import imread\n",
        "\n",
        "PATH = \"dog.jpeg\"\n",
        "ITER = 10 # The Number of Iterations Per A given K\n",
        "\n",
        "def init_centroids(K):\n",
        "    \"\"\"\n",
        "    Initializes K centroids that are to be used in K-Means on the dataset X.\n",
        "\n",
        "    Parameters\n",
        "    ----------\n",
        "    X : ndarray, shape (n_samples, n_features)\n",
        "        Samples, where n_samples is the number of samples and n_features is the number of features.\n",
        "    K : int\n",
        "        The number of centroids.\n",
        "\n",
        "    Returns\n",
        "    -------\n",
        "    centroids : ndarray, shape (K, n_features)\n",
        "    \"\"\"\n",
        "    if K == 2:\n",
        "        return np.asarray([[0.        , 0.        , 0.        ],\n",
        "                            [0.07843137, 0.06666667, 0.09411765]])\n",
        "    elif K == 4:\n",
        "        return np.asarray([[0.72156863, 0.64313725, 0.54901961],\n",
        "                            [0.49019608, 0.41960784, 0.33333333],\n",
        "                            [0.02745098, 0.        , 0.        ],\n",
        "                            [0.17254902, 0.16862745, 0.18823529]])\n",
        "    elif K == 8:\n",
        "        return np.asarray([[0.01568627, 0.01176471, 0.03529412],\n",
        "                            [0.14509804, 0.12156863, 0.12941176],\n",
        "                            [0.4745098 , 0.40784314, 0.32941176],\n",
        "                            [0.00784314, 0.00392157, 0.02745098],\n",
        "                            [0.50588235, 0.43529412, 0.34117647],\n",
        "                            [0.09411765, 0.09019608, 0.11372549],\n",
        "                            [0.54509804, 0.45882353, 0.36470588],\n",
        "                            [0.44705882, 0.37647059, 0.29019608]])\n",
        "    elif K == 16:\n",
        "        return np.asarray([[0.61568627, 0.56078431, 0.45882353],\n",
        "                            [0.4745098 , 0.38039216, 0.33333333],\n",
        "                            [0.65882353, 0.57647059, 0.49411765],\n",
        "                            [0.08235294, 0.07843137, 0.10196078],\n",
        "                            [0.06666667, 0.03529412, 0.02352941],\n",
        "                            [0.08235294, 0.07843137, 0.09803922],\n",
        "                            [0.0745098 , 0.07058824, 0.09411765],\n",
        "                            [0.01960784, 0.01960784, 0.02745098],\n",
        "                            [0.00784314, 0.00784314, 0.01568627],\n",
        "                            [0.8627451 , 0.78039216, 0.69803922],\n",
        "                            [0.60784314, 0.52156863, 0.42745098],\n",
        "                            [0.01960784, 0.01176471, 0.02352941],\n",
        "                            [0.78431373, 0.69803922, 0.60392157],\n",
        "                            [0.30196078, 0.21568627, 0.1254902 ],\n",
        "                            [0.30588235, 0.2627451 , 0.24705882],\n",
        "                            [0.65490196, 0.61176471, 0.50196078]])\n",
        "    else:\n",
        "        print('This value of K is not supported.')\n",
        "        return None\n",
        "\n",
        "\n",
        "def ReadImage(path= PATH):\n",
        "  # data preperation (loading, normalizing, reshaping)\n",
        "  # path = 'dog.jpeg'\n",
        "  A = imread(path)\n",
        "  A_norm = A.astype(float) / 255.\n",
        "  img_size = A_norm.shape\n",
        "  X = A_norm.reshape(img_size[0] * img_size[1], img_size[2])\n",
        "  return X, img_size\n",
        "\n",
        "def DisplayImage(normImage):\n",
        "  plt.imshow(normImage)\n",
        "  plt.grid(False)\n",
        "  plt.show()\n",
        "  \n",
        "# The fuction will return the distance between a pixel and it's centroid\n",
        "def CalculateDistance(pixel, centroid):\n",
        "  diff = np.array(pixel)-centroid  # Calculating the diff between the points\n",
        "  \n",
        "  return np.dot(diff, diff.T);      # Returns the Euclidean ditance between the points\n",
        "\n",
        "def RunEpoch(X, centroids):\n",
        "  indexes = [np.argmin([CalculateDistance(pixel,c) for c in centroids]) for pixel in X]  # For each Pixel we will recieve the appropriate centroid\n",
        "  \n",
        "  \n",
        "  # For each index in the centroids\n",
        "  for c_i in range(centroids.shape[0]):\n",
        "    \n",
        "    pointList = [X[idx] for (idx , cluster) in enumerate(indexes) if cluster == c_i]  # Getting all the pixels assostiated with the centroid\n",
        "    \n",
        "    for j in range(3):\n",
        "      centroids[c_i, j] = np.mean([x[j] for x in pointList])       # Getting the Mean of each dimension of the centroid\n",
        "      \n",
        "  return centroids, indexes  # Return the new Centroids\n",
        "\n",
        "def PrintCentroids(itr, centroids):\n",
        "  formattedCentroid = (centroids * 100).astype(int);    # Getting the final two digits\n",
        "  formattedCentroid = formattedCentroid.astype(float) / 100;  # Setting two points after the value\n",
        "  \n",
        "  centroidsStrings = [str(cen.tolist()).replace('0.0,', '0.,').replace('0.0]', '0.]') for cen in formattedCentroid] # Getting the list of centroids\n",
        "  print(\"iter {}:\".format(itr), \", \".join(centroidsStrings))\n",
        "\n",
        "def CreateImage(X, indexs, centroids):\n",
        "    newImg = np.zeros(X.shape);     # Creating a new Image\n",
        "    for i in range(X.shape[0]):\n",
        "      newImg[i] = centroids[indexs[i]];             # Setting the centroid as the new Pixel\n",
        "    \n",
        "    return newImg # Retrun the New Img\n",
        "\t\n",
        "\t\n",
        "# The function Runs KNN For a Given K including all the Iterations\n",
        "# X - The Formatted pixel of the image\n",
        "# k - The number of neighbors we observe\n",
        "def RunKNN(X, k, ImgSize):\n",
        "  print(\"k={}:\".format(k))   # Printing the K\n",
        "  cent = init_centroids(k)  # Getting the Intial Centroids\n",
        "  \n",
        "  for itr in range(ITER+1):\n",
        "    PrintCentroids(itr, cent)  # Print the Centroids\n",
        "    cent, indexs = RunEpoch(X, cent)   # Recalculating the centroids\n",
        "\n",
        "  return cent, indexs\n",
        "  \n",
        "def main():\n",
        "\tK_list = [2, 4, 8, 16]\n",
        "\tX, ImgSize = ReadImage();     # Reading the Image of the Dog\n",
        "\tfor k in K_list:\n",
        "\t  cent, indexs = RunKNN(X, k, ImgSize)       # Running the KNN For the given Img\n",
        "\t  \n",
        "if __name__ == \"__main__\":\n",
        "\tmain()\n"
      ],
      "execution_count": 2,
      "outputs": [
        {
          "output_type": "stream",
          "text": [
            "/usr/local/lib/python3.6/dist-packages/ipykernel_launcher.py:68: DeprecationWarning: `imread` is deprecated!\n",
            "`imread` is deprecated in SciPy 1.0.0, and will be removed in 1.2.0.\n",
            "Use ``imageio.imread`` instead.\n"
          ],
          "name": "stderr"
        },
        {
          "output_type": "stream",
          "text": [
            "k=2:\n",
            "iter 0: [0., 0., 0.], [0.07, 0.06, 0.09]\n",
            "iter 1: [0.01, 0.01, 0.01], [0.41, 0.36, 0.32]\n",
            "iter 2: [0.06, 0.05, 0.06], [0.58, 0.51, 0.44]\n",
            "iter 3: [0.08, 0.07, 0.07], [0.63, 0.55, 0.46]\n",
            "iter 4: [0.08, 0.07, 0.08], [0.64, 0.56, 0.47]\n",
            "iter 5: [0.09, 0.07, 0.08], [0.64, 0.56, 0.47]\n",
            "iter 6: [0.09, 0.07, 0.08], [0.64, 0.56, 0.47]\n",
            "iter 7: [0.09, 0.07, 0.08], [0.64, 0.56, 0.47]\n",
            "iter 8: [0.09, 0.07, 0.08], [0.64, 0.56, 0.47]\n",
            "iter 9: [0.09, 0.07, 0.08], [0.64, 0.56, 0.47]\n",
            "iter 10: [0.09, 0.07, 0.08], [0.64, 0.56, 0.47]\n",
            "k=4:\n",
            "iter 0: [0.72, 0.64, 0.54], [0.49, 0.41, 0.33], [0.02, 0., 0.], [0.17, 0.16, 0.18]\n",
            "iter 1: [0.72, 0.64, 0.55], [0.5, 0.42, 0.34], [0.03, 0.03, 0.03], [0.18, 0.16, 0.16]\n",
            "iter 2: [0.72, 0.64, 0.55], [0.5, 0.43, 0.35], [0.04, 0.03, 0.04], [0.19, 0.17, 0.17]\n",
            "iter 3: [0.72, 0.65, 0.55], [0.51, 0.44, 0.36], [0.04, 0.03, 0.04], [0.21, 0.18, 0.18]\n",
            "iter 4: [0.72, 0.65, 0.55], [0.52, 0.44, 0.36], [0.04, 0.03, 0.04], [0.22, 0.19, 0.19]\n",
            "iter 5: [0.72, 0.65, 0.55], [0.52, 0.45, 0.36], [0.04, 0.03, 0.04], [0.23, 0.2, 0.19]\n",
            "iter 6: [0.73, 0.65, 0.56], [0.52, 0.45, 0.37], [0.04, 0.03, 0.04], [0.23, 0.2, 0.19]\n",
            "iter 7: [0.73, 0.65, 0.56], [0.53, 0.45, 0.37], [0.04, 0.03, 0.04], [0.23, 0.21, 0.19]\n",
            "iter 8: [0.73, 0.65, 0.56], [0.53, 0.46, 0.37], [0.04, 0.03, 0.04], [0.24, 0.21, 0.2]\n",
            "iter 9: [0.73, 0.66, 0.56], [0.53, 0.46, 0.38], [0.04, 0.03, 0.04], [0.24, 0.21, 0.2]\n",
            "iter 10: [0.73, 0.66, 0.56], [0.54, 0.46, 0.38], [0.04, 0.04, 0.04], [0.24, 0.21, 0.2]\n",
            "k=8:\n",
            "iter 0: [0.01, 0.01, 0.03], [0.14, 0.12, 0.12], [0.47, 0.4, 0.32], [0., 0., 0.02], [0.5, 0.43, 0.34], [0.09, 0.09, 0.11], [0.54, 0.45, 0.36], [0.44, 0.37, 0.29]\n",
            "iter 1: [0.03, 0.03, 0.03], [0.18, 0.17, 0.17], [0.47, 0.4, 0.32], [0., 0., 0.01], [0.5, 0.43, 0.35], [0.08, 0.07, 0.09], [0.68, 0.6, 0.51], [0.38, 0.31, 0.26]\n",
            "iter 2: [0.04, 0.03, 0.04], [0.19, 0.17, 0.18], [0.46, 0.39, 0.31], [0.01, 0., 0.01], [0.54, 0.47, 0.38], [0.09, 0.08, 0.09], [0.71, 0.64, 0.54], [0.36, 0.3, 0.25]\n",
            "iter 3: [0.04, 0.03, 0.04], [0.2, 0.18, 0.18], [0.46, 0.39, 0.31], [0.01, 0., 0.01], [0.57, 0.49, 0.41], [0.09, 0.08, 0.09], [0.73, 0.65, 0.56], [0.34, 0.29, 0.24]\n",
            "iter 4: [0.04, 0.03, 0.04], [0.19, 0.18, 0.18], [0.46, 0.39, 0.31], [0.01, 0., 0.01], [0.59, 0.51, 0.42], [0.09, 0.09, 0.1], [0.74, 0.67, 0.57], [0.34, 0.28, 0.24]\n",
            "iter 5: [0.05, 0.04, 0.05], [0.19, 0.18, 0.18], [0.47, 0.4, 0.32], [0.01, 0., 0.01], [0.6, 0.53, 0.44], [0.1, 0.09, 0.1], [0.75, 0.67, 0.58], [0.33, 0.28, 0.24]\n",
            "iter 6: [0.05, 0.04, 0.05], [0.19, 0.18, 0.18], [0.48, 0.41, 0.33], [0.01, 0.01, 0.01], [0.61, 0.54, 0.45], [0.1, 0.09, 0.1], [0.76, 0.68, 0.59], [0.33, 0.28, 0.24]\n",
            "iter 7: [0.05, 0.04, 0.05], [0.2, 0.18, 0.18], [0.49, 0.41, 0.33], [0.01, 0.01, 0.01], [0.62, 0.54, 0.45], [0.1, 0.09, 0.11], [0.76, 0.69, 0.59], [0.34, 0.28, 0.24]\n",
            "iter 8: [0.05, 0.04, 0.05], [0.2, 0.18, 0.18], [0.49, 0.42, 0.34], [0.01, 0.01, 0.01], [0.63, 0.55, 0.46], [0.11, 0.1, 0.11], [0.76, 0.69, 0.6], [0.34, 0.29, 0.24]\n",
            "iter 9: [0.05, 0.04, 0.05], [0.2, 0.18, 0.18], [0.5, 0.42, 0.34], [0.01, 0.01, 0.01], [0.63, 0.56, 0.47], [0.11, 0.1, 0.11], [0.77, 0.7, 0.6], [0.35, 0.29, 0.24]\n",
            "iter 10: [0.05, 0.04, 0.06], [0.2, 0.19, 0.19], [0.51, 0.43, 0.35], [0.01, 0.01, 0.01], [0.64, 0.56, 0.47], [0.11, 0.1, 0.11], [0.77, 0.7, 0.6], [0.35, 0.3, 0.25]\n",
            "k=16:\n",
            "iter 0: [0.61, 0.56, 0.45], [0.47, 0.38, 0.33], [0.65, 0.57, 0.49], [0.08, 0.07, 0.1], [0.06, 0.03, 0.02], [0.08, 0.07, 0.09], [0.07, 0.07, 0.09], [0.01, 0.01, 0.02], [0., 0., 0.01], [0.86, 0.78, 0.69], [0.6, 0.52, 0.42], [0.01, 0.01, 0.02], [0.78, 0.69, 0.6], [0.3, 0.21, 0.12], [0.3, 0.26, 0.24], [0.65, 0.61, 0.5]\n",
            "iter 1: [0.62, 0.55, 0.46], [0.47, 0.39, 0.32], [0.66, 0.57, 0.48], [0.12, 0.11, 0.13], [0.06, 0.04, 0.03], [0.1, 0.08, 0.08], [0.06, 0.06, 0.07], [0.02, 0.02, 0.03], [0., 0., 0.], [0.85, 0.78, 0.69], [0.57, 0.49, 0.41], [0.02, 0.01, 0.01], [0.76, 0.69, 0.59], [0.22, 0.18, 0.16], [0.29, 0.26, 0.24], [0.69, 0.62, 0.52]\n",
            "iter 2: [0.62, 0.54, 0.45], [0.46, 0.39, 0.31], [0.66, 0.58, 0.48], [0.13, 0.12, 0.14], [0.06, 0.04, 0.03], [0.1, 0.08, 0.09], [0.06, 0.06, 0.07], [0.03, 0.02, 0.04], [0., 0., 0.], [0.85, 0.78, 0.68], [0.56, 0.48, 0.4], [0.02, 0.01, 0.01], [0.76, 0.69, 0.59], [0.21, 0.18, 0.18], [0.31, 0.27, 0.24], [0.7, 0.62, 0.53]\n",
            "iter 3: [0.61, 0.54, 0.45], [0.46, 0.39, 0.31], [0.66, 0.58, 0.49], [0.14, 0.12, 0.14], [0.07, 0.04, 0.02], [0.09, 0.08, 0.1], [0.06, 0.05, 0.07], [0.03, 0.03, 0.04], [0., 0., 0.], [0.84, 0.78, 0.68], [0.55, 0.48, 0.39], [0.02, 0.01, 0.02], [0.76, 0.69, 0.59], [0.21, 0.19, 0.19], [0.32, 0.27, 0.24], [0.7, 0.63, 0.53]\n",
            "iter 4: [0.61, 0.53, 0.45], [0.46, 0.38, 0.31], [0.66, 0.58, 0.49], [0.14, 0.13, 0.14], [0.08, 0.04, 0.02], [0.09, 0.09, 0.1], [0.06, 0.05, 0.07], [0.03, 0.03, 0.04], [0., 0., 0.], [0.84, 0.78, 0.68], [0.55, 0.47, 0.39], [0.02, 0.01, 0.02], [0.77, 0.69, 0.6], [0.21, 0.19, 0.19], [0.33, 0.28, 0.24], [0.71, 0.63, 0.54]\n",
            "iter 5: [0.61, 0.53, 0.44], [0.45, 0.38, 0.31], [0.66, 0.58, 0.49], [0.14, 0.13, 0.14], [0.08, 0.04, 0.01], [0.1, 0.09, 0.1], [0.06, 0.06, 0.07], [0.03, 0.03, 0.04], [0., 0., 0.], [0.85, 0.78, 0.68], [0.54, 0.47, 0.38], [0.02, 0.01, 0.02], [0.77, 0.69, 0.6], [0.21, 0.19, 0.2], [0.33, 0.28, 0.24], [0.71, 0.63, 0.54]\n",
            "iter 6: [0.6, 0.53, 0.44], [0.45, 0.38, 0.3], [0.66, 0.58, 0.49], [0.15, 0.13, 0.14], [0.09, 0.04, 0.01], [0.1, 0.09, 0.1], [0.06, 0.06, 0.07], [0.03, 0.03, 0.04], [0., 0., 0.], [0.85, 0.78, 0.68], [0.54, 0.46, 0.38], [0.02, 0.01, 0.02], [0.77, 0.7, 0.6], [0.22, 0.2, 0.2], [0.34, 0.28, 0.24], [0.71, 0.64, 0.54]\n",
            "iter 7: [0.6, 0.53, 0.44], [0.45, 0.38, 0.3], [0.66, 0.58, 0.49], [0.15, 0.14, 0.14], [0.09, 0.04, 0.01], [0.1, 0.09, 0.1], [0.06, 0.06, 0.07], [0.04, 0.03, 0.04], [0., 0., 0.], [0.85, 0.78, 0.68], [0.54, 0.46, 0.38], [0.02, 0.01, 0.02], [0.77, 0.7, 0.6], [0.22, 0.2, 0.2], [0.34, 0.28, 0.24], [0.71, 0.64, 0.54]\n",
            "iter 8: [0.6, 0.53, 0.44], [0.45, 0.38, 0.3], [0.66, 0.58, 0.49], [0.15, 0.14, 0.15], [0.09, 0.04, 0.01], [0.1, 0.09, 0.11], [0.06, 0.06, 0.07], [0.04, 0.03, 0.05], [0., 0., 0.], [0.85, 0.78, 0.68], [0.54, 0.46, 0.38], [0.02, 0.01, 0.02], [0.77, 0.7, 0.6], [0.23, 0.2, 0.2], [0.34, 0.29, 0.24], [0.71, 0.64, 0.54]\n",
            "iter 9: [0.6, 0.52, 0.44], [0.45, 0.38, 0.3], [0.66, 0.58, 0.49], [0.16, 0.14, 0.15], [0.09, 0.04, 0.01], [0.1, 0.09, 0.11], [0.06, 0.06, 0.07], [0.04, 0.03, 0.05], [0., 0., 0.], [0.85, 0.78, 0.69], [0.53, 0.46, 0.38], [0.02, 0.01, 0.02], [0.77, 0.7, 0.6], [0.23, 0.21, 0.2], [0.35, 0.29, 0.24], [0.71, 0.64, 0.54]\n",
            "iter 10: [0.6, 0.52, 0.44], [0.45, 0.38, 0.3], [0.66, 0.58, 0.49], [0.16, 0.14, 0.15], [0.09, 0.04, 0.01], [0.1, 0.09, 0.11], [0.07, 0.06, 0.07], [0.04, 0.03, 0.05], [0., 0., 0.], [0.85, 0.78, 0.69], [0.53, 0.46, 0.37], [0.02, 0.01, 0.02], [0.77, 0.7, 0.6], [0.23, 0.21, 0.21], [0.35, 0.29, 0.24], [0.71, 0.64, 0.54]\n"
          ],
          "name": "stdout"
        }
      ]
    }
  ]
}